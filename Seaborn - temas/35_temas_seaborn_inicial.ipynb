{
 "cells": [
  {
   "cell_type": "markdown",
   "metadata": {},
   "source": [
    "# Temas do Seaborn"
   ]
  },
  {
   "cell_type": "code",
   "execution_count": null,
   "metadata": {
    "ExecuteTime": {
     "end_time": "2023-07-25T23:59:47.883322800Z",
     "start_time": "2023-07-25T23:59:47.665121100Z"
    },
    "tags": []
   },
   "outputs": [],
   "source": [
    "import seaborn as sns\n",
    "\n",
    "meses = ['Jan', 'Fev', 'Mar', 'Abr', 'Mai', 'Jun', 'Jul', 'Ago', 'Set', 'Out', 'Nov', 'Dez']\n",
    "vendas = [85, 90, 78, 92, 88, 96, 94, 98, 100, 102, 105, 108]\n",
    "\n",
    "dados = {'Meses': meses, 'Vendas': vendas}\n",
    "\n",
    "sns.lineplot(x='Meses', y='Vendas', data=dados);\n"
   ]
  },
  {
   "cell_type": "code",
   "execution_count": null,
   "metadata": {},
   "outputs": [],
   "source": []
  },
  {
   "cell_type": "markdown",
   "metadata": {},
   "source": [
    "No Seaborn, um tema é a combinação de estilo, contexto e paleta de cores que juntos definem a aparência de um gráfico."
   ]
  },
  {
   "cell_type": "markdown",
   "metadata": {},
   "source": [
    "https://seaborn.pydata.org/generated/seaborn.set_theme.html\n",
    "\n",
    "https://seaborn.pydata.org/tutorial/aesthetics.html\n",
    "\n",
    "https://seaborn.pydata.org/generated/seaborn.color_palette.html#seaborn.color_palette\n",
    "\n",
    "https://seaborn.pydata.org/tutorial/color_palettes.html"
   ]
  },
  {
   "cell_type": "code",
   "execution_count": null,
   "metadata": {
    "ExecuteTime": {
     "end_time": "2023-07-25T23:59:58.440249300Z",
     "start_time": "2023-07-25T23:59:58.414473600Z"
    },
    "collapsed": false,
    "jupyter": {
     "outputs_hidden": false
    }
   },
   "outputs": [],
   "source": [
    "estilos = ['darkgrid', 'whitegrid', 'dark', 'white', 'ticks']\n",
    "contextos = ['paper', 'notebook', 'talk', 'poster']\n",
    "paletas = ['deep', 'muted', 'bright', 'pastel', 'dark', 'colorblind']  # além das do matplotlib"
   ]
  },
  {
   "cell_type": "code",
   "execution_count": null,
   "metadata": {},
   "outputs": [],
   "source": []
  }
 ],
 "metadata": {
  "kernelspec": {
   "display_name": "Python 3 (ipykernel)",
   "language": "python",
   "name": "python3"
  },
  "language_info": {
   "codemirror_mode": {
    "name": "ipython",
    "version": 3
   },
   "file_extension": ".py",
   "mimetype": "text/x-python",
   "name": "python",
   "nbconvert_exporter": "python",
   "pygments_lexer": "ipython3",
   "version": "3.10.11"
  }
 },
 "nbformat": 4,
 "nbformat_minor": 4
}
