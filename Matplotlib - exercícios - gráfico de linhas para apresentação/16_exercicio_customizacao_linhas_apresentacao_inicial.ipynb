{
 "cells": [
  {
   "cell_type": "markdown",
   "metadata": {},
   "source": [
    "## Exercício - Gráfico de linhas\n",
    "\n",
    "Considere a seguinte tabela com o número de refeições servidas por ano por uma instituição de caridade.\n",
    "\n",
    "Ano | Refeições\n",
    "--- | ---\n",
    "2010 | 40.139\n",
    "2011 | 127.020\n",
    "2012 | 168.193\n",
    "2013 | 153.115\n",
    "2014 | 202.102\n",
    "2015 | 232.897\n",
    "2016 | 277.912\n",
    "2017 | 205.350\n",
    "2018 | 233.389\n",
    "2019 | 232.797\n",
    "2020 | 110.023\n",
    "2021 | 160.350\n",
    "2022 | 222.789\n",
    "\n",
    "Construa um gráfico de linhas com as seguintes características:\n",
    "\n",
    "- Tamanho 14x6\n",
    "- Linha com espessura 3\n",
    "- Palheta de cores Set3\n",
    "- Destaque o impacto da pandemia (2020 e 2021) com um vspan\n",
    "- Destaque o impacto da pandemia com um texto\n",
    "- Destaque os pontos de início e fim da série com um scatter plot com as quantidades de refeições servidas\n",
    "- Remova os eixos y\n",
    "- Remova os ticks do eixo x\n",
    "- Remova as bordas do gráfico\n",
    "- Adicione um título\n",
    "- A figura deve ser salva numa pasta chamada `imagens` que deve estar no mesmo diretório do Jupyter Notebook\n",
    "\n"
   ]
  },
  {
   "cell_type": "code",
   "execution_count": 1,
   "metadata": {
    "collapsed": false,
    "jupyter": {
     "outputs_hidden": false
    }
   },
   "outputs": [],
   "source": [
    "# listas de anos e refeições\n",
    "anos = [2010, 2011, 2012, 2013, 2014, 2015, 2016, 2017, 2018, 2019, 2020, 2021, 2022]\n",
    "refeicoes = [40139, 127020, 168193, 153115, 202102, 232897, 277912, 205350, 233389, 232797, 110023, 160350, 222789]"
   ]
  },
  {
   "cell_type": "code",
   "execution_count": null,
   "metadata": {},
   "outputs": [],
   "source": []
  }
 ],
 "metadata": {
  "kernelspec": {
   "display_name": "Python 3 (ipykernel)",
   "language": "python",
   "name": "python3"
  },
  "language_info": {
   "codemirror_mode": {
    "name": "ipython",
    "version": 3
   },
   "file_extension": ".py",
   "mimetype": "text/x-python",
   "name": "python",
   "nbconvert_exporter": "python",
   "pygments_lexer": "ipython3",
   "version": "3.10.11"
  }
 },
 "nbformat": 4,
 "nbformat_minor": 4
}
