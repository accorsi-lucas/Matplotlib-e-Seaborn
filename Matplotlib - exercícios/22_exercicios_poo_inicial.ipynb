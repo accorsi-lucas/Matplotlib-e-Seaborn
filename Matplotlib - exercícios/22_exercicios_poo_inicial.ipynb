{
 "cells": [
  {
   "cell_type": "markdown",
   "metadata": {},
   "source": [
    "# Exercícios de mosaico de gráficos\n",
    "\n",
    "Considere os dados da primeira célula para um aplicativo de uma pequena empresa de software. Faça um mosaico com 4 gráficos:\n",
    "\n",
    "1. Gráfico de linhas com os novos usuários por mês\n",
    "2. Gráfico de barras com a receita mensal\n",
    "3. Gráfico de linhas com os usuários ativos diários\n",
    "4. Gráfico de barras empilhadas com os tickets de suporte abertos e fechados\n",
    "\n",
    "Os gráficos 1 e 2 devem ter uma linha própria no mosaico. Os gráficos 3 e 4 devem compartilhar a mesma linha.\n"
   ]
  },
  {
   "cell_type": "code",
   "execution_count": 1,
   "metadata": {
    "ExecuteTime": {
     "end_time": "2023-07-19T18:25:46.981715Z",
     "start_time": "2023-07-19T18:25:46.975254200Z"
    },
    "collapsed": false,
    "jupyter": {
     "outputs_hidden": false
    }
   },
   "outputs": [],
   "source": [
    "meses = ['Jan', 'Fev', 'Mar', 'Abr', 'Mai', 'Jun', 'Jul', 'Ago', 'Set', 'Out', 'Nov', 'Dez']\n",
    "novos_usuarios = [100, 80, 110, 140, 150, 160, 170, 120, 110, 150, 200, 140]\n",
    "usuarios_ativos_diarios = [1000, 750, 900, 1300, 1400, 1500, 1200, 1200, 1500, 1900, 2000, 1800]\n",
    "receita_mensal = [10000, 8500, 9800, 10000, 11000, 12000, 10000, 10500, 13000, 13000, 20000, 17000]\n",
    "tickets_suporte_abertos = [110, 75, 100, 140, 170, 160, 100, 130, 190, 200, 210, 140]\n",
    "tickets_suporte_fechados = [100, 85, 100, 120, 130, 150, 140, 110, 130, 120, 150, 200]\n"
   ]
  }
 ],
 "metadata": {
  "kernelspec": {
   "display_name": "Python 3 (ipykernel)",
   "language": "python",
   "name": "python3"
  },
  "language_info": {
   "codemirror_mode": {
    "name": "ipython",
    "version": 3
   },
   "file_extension": ".py",
   "mimetype": "text/x-python",
   "name": "python",
   "nbconvert_exporter": "python",
   "pygments_lexer": "ipython3",
   "version": "3.10.11"
  }
 },
 "nbformat": 4,
 "nbformat_minor": 4
}
