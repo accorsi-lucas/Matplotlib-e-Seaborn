{
 "cells": [
  {
   "cell_type": "markdown",
   "metadata": {},
   "source": [
    "# Introdução a outras bibliotecas de visualização de dados\n",
    "\n",
    "Além do Matplotlib, existem várias outras bibliotecas gráficas populares disponíveis para Python. Cada uma delas tem suas próprias forças e é adequada para diferentes tipos de tarefas de visualização de dados.\n",
    "\n",
    "- **Plotly**: Esta é uma biblioteca gráfica que permite criar gráficos interativos de alta qualidade. Ela suporta uma variedade de tipos de gráficos, incluindo gráficos 3D, gráficos geográficos e até mesmo gráficos animados.\n",
    "\n",
    "- **Bokeh**: Semelhante ao Plotly, o Bokeh é uma biblioteca que permite criar gráficos interativos que podem ser exibidos na web. Ele tem uma interface flexível que permite uma grande quantidade de personalização.\n",
    "\n",
    "- **Altair**: Esta é uma biblioteca de visualização de dados declarativa, o que significa que você especifica *o que* você quer que o gráfico mostre, e a biblioteca cuida de *como* mostrar isso. Ela é especialmente boa para trabalhar com grandes conjuntos de dados.\n",
    "\n",
    "- **Pandas**: Embora seja mais conhecido como uma biblioteca para manipulação de dados, o Pandas também tem funcionalidades de plotagem integradas que são construídas em cima do Matplotlib.\n",
    "\n",
    "## Por que Seaborn?\n",
    "\n",
    "Embora todas essas bibliotecas sejam poderosas e úteis à sua maneira, estamos escolhendo focar no Seaborn por várias razões.\n",
    "\n",
    "Primeiro, o Seaborn é construído em cima do Matplotlib, o que significa que ele mantém a flexibilidade e a capacidade de personalização do Matplotlib, enquanto adiciona uma interface de alto nível que torna a criação de gráficos comuns mais simples e direta.\n",
    "\n",
    "Segundo, o Seaborn é especialmente bom para criar gráficos estatísticos. Ele fornece funções para criar uma variedade de gráficos que são úteis para explorar dados e entender as relações entre as variáveis. Isso inclui gráficos como gráficos de dispersão, gráficos de caixa e gráficos de violino.\n",
    "\n",
    "Terceiro, o Seaborn tem excelente integração com o Pandas, o que significa que ele pode trabalhar diretamente com DataFrames do Pandas. Isso torna o Seaborn uma escolha natural se você já está usando o Pandas para manipular seus dados.\n",
    "\n",
    "Finalmente, o Seaborn também fornece várias opções para melhorar a aparência dos gráficos, incluindo temas integrados e a capacidade de controlar a estética dos gráficos em um nível mais granular. Isso torna mais fácil criar gráficos que são não apenas informativos, mas também visualmente agradáveis\n"
   ]
  },
  {
   "cell_type": "markdown",
   "metadata": {},
   "source": [
    "## Instalando o Seaborn\n",
    "\n",
    "O Seaborn é uma biblioteca de terceiros, portanto, você precisará instalá-lo separadamente. Você pode instalar o Seaborn usando o comando `pip`:\n",
    "\n",
    "```python\n",
    "pip install seaborn\n",
    "```"
   ]
  },
  {
   "cell_type": "markdown",
   "metadata": {},
   "source": [
    "## Exemplos"
   ]
  },
  {
   "cell_type": "markdown",
   "metadata": {},
   "source": [
    "https://seaborn.pydata.org/generated/seaborn.lineplot.html"
   ]
  },
  {
   "cell_type": "code",
   "execution_count": null,
   "metadata": {
    "ExecuteTime": {
     "end_time": "2023-07-25T23:34:07.899392400Z",
     "start_time": "2023-07-25T23:34:07.670725900Z"
    },
    "collapsed": false,
    "jupyter": {
     "outputs_hidden": false
    }
   },
   "outputs": [],
   "source": [
    "import seaborn as sns\n",
    "\n",
    "meses = ['Jan', 'Fev', 'Mar', 'Abr', 'Mai', 'Jun', 'Jul', 'Ago', 'Set', 'Out', 'Nov', 'Dez']\n",
    "vendas = [85, 90, 78, 92, 88, 96, 94, 98, 100, 102, 105, 108]"
   ]
  },
  {
   "cell_type": "code",
   "execution_count": null,
   "metadata": {},
   "outputs": [],
   "source": []
  },
  {
   "cell_type": "markdown",
   "metadata": {},
   "source": [
    "https://seaborn.pydata.org/generated/seaborn.barplot.html"
   ]
  },
  {
   "cell_type": "code",
   "execution_count": null,
   "metadata": {
    "ExecuteTime": {
     "end_time": "2023-07-25T23:38:26.502338Z",
     "start_time": "2023-07-25T23:38:26.328725500Z"
    },
    "collapsed": false,
    "jupyter": {
     "outputs_hidden": false
    }
   },
   "outputs": [],
   "source": [
    "import seaborn as sns\n",
    "\n",
    "# Dados fictícios\n",
    "cidades = ['Brasília', 'Rio de Janeiro', 'São Paulo', 'Curitiba', 'Manaus']\n",
    "temperaturas = [27, 29, 25, 23, 31]  # Temperaturas médias anuais em graus Celsius"
   ]
  },
  {
   "cell_type": "code",
   "execution_count": null,
   "metadata": {
    "collapsed": false,
    "jupyter": {
     "outputs_hidden": false
    }
   },
   "outputs": [],
   "source": []
  }
 ],
 "metadata": {
  "kernelspec": {
   "display_name": "Python 3 (ipykernel)",
   "language": "python",
   "name": "python3"
  },
  "language_info": {
   "codemirror_mode": {
    "name": "ipython",
    "version": 3
   },
   "file_extension": ".py",
   "mimetype": "text/x-python",
   "name": "python",
   "nbconvert_exporter": "python",
   "pygments_lexer": "ipython3",
   "version": "3.10.11"
  }
 },
 "nbformat": 4,
 "nbformat_minor": 4
}
