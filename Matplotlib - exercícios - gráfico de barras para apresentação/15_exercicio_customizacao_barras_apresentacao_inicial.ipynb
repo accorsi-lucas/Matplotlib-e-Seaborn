{
 "cells": [
  {
   "cell_type": "markdown",
   "metadata": {},
   "source": [
    "## Exercício - Gráfico de barras\n",
    "\n",
    "Você deve criar um gráfico de barras com as calorias por 100 g de alimento. Os dados estão na primeira célula do Jupyter Notebook. O gráfico deve ter as seguintes características:\n",
    "\n",
    "- Título: Calorias por 100 g de alimento\n",
    "- Título: O título do gráfico deve estar na cor cinza, em negrito e com tamanho de fonte 14\n",
    "- Eixos: Alimento (eixo X) e Calorias (eixo Y)\n",
    "- Os nomes compostos dos alimentos devem ser quebrados em duas linhas\n",
    "- Cores: Todas as barras devem ser cinza\n",
    "- Transparência: Todas as barras devem ter transparência de 50%\n",
    "- Cor de uma barra específica: A barra do bacon deve ser vermelha e ter transparência de 80%\n",
    "- Rótulos: Os rótulos de cada barra devem estar em negrito e na cor branca\n",
    "- Rótulos: Os rótulos de cada barra devem estar dentro da barra\n",
    "- Ticks: Os ticks do eixo Y devem ser removidos\n",
    "- Ticks: Os ticks do eixo X devem ser removidos\n",
    "- Box: A caixa do gráfico deve ser removida\n",
    "- Grid: O grid do gráfico deve ser removido\n",
    "- Figura: A figura deve ter tamanho 8x5\n",
    "- Figura: A figura deve ser salva com o nome grafico_barras.png, com 300 dpi de resolução e com a área de plotagem ajustada\n",
    "- Figura: A figura deve ser salva numa pasta chamada `imagens` que deve estar no mesmo diretório do Jupyter Notebook."
   ]
  },
  {
   "cell_type": "code",
   "execution_count": 1,
   "metadata": {
    "ExecuteTime": {
     "end_time": "2023-07-18T19:12:39.566067500Z",
     "start_time": "2023-07-18T19:12:39.556064100Z"
    },
    "collapsed": true,
    "jupyter": {
     "outputs_hidden": true
    }
   },
   "outputs": [],
   "source": [
    "# valores por 100 g do alimento\n",
    "calorias_por_alimento = {\n",
    "    \"Batata Frita\": 607,\n",
    "    \"Batata Chips\": 542,\n",
    "    \"Bacon\": 533,\n",
    "    \"Pizza\": 296,\n",
    "    \"Cachorro Quente\": 260\n",
    "}"
   ]
  },
  {
   "cell_type": "code",
   "execution_count": null,
   "metadata": {},
   "outputs": [],
   "source": []
  }
 ],
 "metadata": {
  "kernelspec": {
   "display_name": "Python 3 (ipykernel)",
   "language": "python",
   "name": "python3"
  },
  "language_info": {
   "codemirror_mode": {
    "name": "ipython",
    "version": 3
   },
   "file_extension": ".py",
   "mimetype": "text/x-python",
   "name": "python",
   "nbconvert_exporter": "python",
   "pygments_lexer": "ipython3",
   "version": "3.10.11"
  }
 },
 "nbformat": 4,
 "nbformat_minor": 4
}
